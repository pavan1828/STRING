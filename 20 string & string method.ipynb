{
 "cells": [
  {
   "cell_type": "markdown",
   "id": "21360a9b",
   "metadata": {},
   "source": [
    "# STRING AND STRING METHODS"
   ]
  },
  {
   "cell_type": "markdown",
   "id": "b2d25c98",
   "metadata": {},
   "source": [
    "## Def of string:"
   ]
  },
  {
   "cell_type": "markdown",
   "id": "b301d18a",
   "metadata": {},
   "source": [
    "* str is a collection of Characters or  Alphanumeric data or numeric data or any type of data enclosed within double Quotes or single quotes or tripple double quotes and tripple single quotes. \""
   ]
  },
  {
   "cell_type": "markdown",
   "id": "95b7fa55",
   "metadata": {},
   "source": [
    "* we have two types of String Data. They are\n",
    "1. Single Line String Data\n",
    "2. Multi Line String Data"
   ]
  },
  {
   "cell_type": "markdown",
   "id": "c1974bd3",
   "metadata": {},
   "source": [
    "**1.Single Line String Data:**"
   ]
  },
  {
   "cell_type": "markdown",
   "id": "1d8f24af",
   "metadata": {},
   "source": [
    "&rarr; Syntax1:-       varname=\" Single Line String Data \"<br>\n",
    "\t\t\t\t\t\t\n",
    "&rarr; Syntax2:-       varname=' Single Line String Data '\n"
   ]
  },
  {
   "cell_type": "markdown",
   "id": "77b40f8c",
   "metadata": {},
   "source": [
    "**2. Multi Line String Data:**\n"
   ]
  },
  {
   "cell_type": "markdown",
   "id": "6fd6a979",
   "metadata": {},
   "source": [
    "&rarr;Syntax1:-       varname=\" \" \" String Data1 \n",
    "                                    String Data2\n",
    "                                      ---------- String data-n \" \" \"\n",
    "\n",
    "     (OR)\n",
    "\n",
    "&rarr;Syntax2:-      varname=' ' ' String Data1 \n",
    "                                String Data2\n",
    "                           ----------------   String data-n ' ' '\n",
    "\n"
   ]
  },
  {
   "cell_type": "code",
   "execution_count": 4,
   "id": "1b02fe84",
   "metadata": {},
   "outputs": [
    {
     "name": "stdout",
     "output_type": "stream",
     "text": [
      "Python <class 'str'>\n"
     ]
    }
   ],
   "source": [
    "s1=\"Python\"\n",
    "print(s1,type(s1))\n"
   ]
  },
  {
   "cell_type": "code",
   "execution_count": 6,
   "id": "ca4fcd91",
   "metadata": {},
   "outputs": [
    {
     "name": "stdout",
     "output_type": "stream",
     "text": [
      "123 <class 'str'>\n"
     ]
    }
   ],
   "source": [
    "s=\"123\"\n",
    "print(s,type(s))"
   ]
  },
  {
   "cell_type": "code",
   "execution_count": 7,
   "id": "22da1208",
   "metadata": {},
   "outputs": [
    {
     "name": "stdout",
     "output_type": "stream",
     "text": [
      "python123 <class 'str'>\n"
     ]
    }
   ],
   "source": [
    "s2=\"python123\"\n",
    "print(s2,type(s2))"
   ]
  },
  {
   "cell_type": "code",
   "execution_count": 20,
   "id": "5f1a834b",
   "metadata": {},
   "outputs": [
    {
     "ename": "SyntaxError",
     "evalue": "EOL while scanning string literal (692592828.py, line 1)",
     "output_type": "error",
     "traceback": [
      "\u001b[1;36m  File \u001b[1;32m\"C:\\Users\\pc\\AppData\\Local\\Temp\\ipykernel_16840\\692592828.py\"\u001b[1;36m, line \u001b[1;32m1\u001b[0m\n\u001b[1;33m    s1=\" \" \"Python is an oop lang\u001b[0m\n\u001b[1;37m                                 ^\u001b[0m\n\u001b[1;31mSyntaxError\u001b[0m\u001b[1;31m:\u001b[0m EOL while scanning string literal\n"
     ]
    }
   ],
   "source": [
    " s1=\" \" \"Python is an oop lang \n",
    "    python is also fun Prog lang\n",
    "             Python is also Modular Prog lang \" \" \"\n",
    "print(s1,type(s1))"
   ]
  },
  {
   "cell_type": "code",
   "execution_count": 21,
   "id": "6801d9d7",
   "metadata": {},
   "outputs": [
    {
     "name": "stdout",
     "output_type": "stream",
     "text": [
      "\n",
      "This is a\n",
      "multi-line\n",
      "string.\n",
      " <class 'str'>\n"
     ]
    }
   ],
   "source": [
    "a= '''\n",
    "This is a\n",
    "multi-line\n",
    "string.\n",
    "'''\n",
    "print(a,type(a))\n"
   ]
  },
  {
   "cell_type": "markdown",
   "id": "ad027e6b",
   "metadata": {},
   "source": [
    "# Operations on string"
   ]
  },
  {
   "cell_type": "markdown",
   "id": "1e5c7525",
   "metadata": {},
   "source": [
    "* On string data, we can performe Two Types of Operations. They are\n",
    "1. Indexing Operation\n",
    "2. Slicing Operation"
   ]
  },
  {
   "cell_type": "markdown",
   "id": "a296c78b",
   "metadata": {},
   "source": [
    "**1. Indexing Operation:**"
   ]
  },
  {
   "cell_type": "markdown",
   "id": "72c3417f",
   "metadata": {},
   "source": [
    "&rarr; The Process of Obtaining a single Value from str object is called Indexing .<br>\n",
    "&rarr; Syntax:      strobj[index]<br>\n",
    "&rarr; Here strobj is an object of <class,'str'> <br>\n",
    "&rarr; Index can be either +ve or -ve <br>\n",
    "&rarr; If we enter valid Index then we get a Correcponding value from str object <br>\n",
    "&rarr; If we enter Invalid Index then we get IndexError.<br>\n"
   ]
  },
  {
   "cell_type": "code",
   "execution_count": 23,
   "id": "bfc0b250",
   "metadata": {},
   "outputs": [
    {
     "data": {
      "text/plain": [
       "'python'"
      ]
     },
     "execution_count": 23,
     "metadata": {},
     "output_type": "execute_result"
    }
   ],
   "source": [
    "s=\"python\"\n",
    "s"
   ]
  },
  {
   "cell_type": "code",
   "execution_count": 24,
   "id": "a7050f57",
   "metadata": {},
   "outputs": [
    {
     "data": {
      "text/plain": [
       "'p'"
      ]
     },
     "execution_count": 24,
     "metadata": {},
     "output_type": "execute_result"
    }
   ],
   "source": [
    "s[0]"
   ]
  },
  {
   "cell_type": "code",
   "execution_count": 25,
   "id": "96aa554f",
   "metadata": {},
   "outputs": [
    {
     "data": {
      "text/plain": [
       "'n'"
      ]
     },
     "execution_count": 25,
     "metadata": {},
     "output_type": "execute_result"
    }
   ],
   "source": [
    "s[-1]"
   ]
  },
  {
   "cell_type": "code",
   "execution_count": 26,
   "id": "3ad67795",
   "metadata": {},
   "outputs": [
    {
     "data": {
      "text/plain": [
       "'t'"
      ]
     },
     "execution_count": 26,
     "metadata": {},
     "output_type": "execute_result"
    }
   ],
   "source": [
    "s[2]"
   ]
  },
  {
   "cell_type": "code",
   "execution_count": 27,
   "id": "359af1ac",
   "metadata": {},
   "outputs": [
    {
     "ename": "IndexError",
     "evalue": "string index out of range",
     "output_type": "error",
     "traceback": [
      "\u001b[1;31m---------------------------------------------------------------------------\u001b[0m",
      "\u001b[1;31mIndexError\u001b[0m                                Traceback (most recent call last)",
      "\u001b[1;32m~\\AppData\\Local\\Temp\\ipykernel_16840\\1733316026.py\u001b[0m in \u001b[0;36m<module>\u001b[1;34m\u001b[0m\n\u001b[1;32m----> 1\u001b[1;33m \u001b[0ms\u001b[0m\u001b[1;33m[\u001b[0m\u001b[1;36m10\u001b[0m\u001b[1;33m]\u001b[0m\u001b[1;33m\u001b[0m\u001b[1;33m\u001b[0m\u001b[0m\n\u001b[0m",
      "\u001b[1;31mIndexError\u001b[0m: string index out of range"
     ]
    }
   ],
   "source": [
    "s[10]"
   ]
  },
  {
   "cell_type": "code",
   "execution_count": 28,
   "id": "17566dd1",
   "metadata": {},
   "outputs": [
    {
     "data": {
      "text/plain": [
       "'o'"
      ]
     },
     "execution_count": 28,
     "metadata": {},
     "output_type": "execute_result"
    }
   ],
   "source": [
    "s[-2]"
   ]
  },
  {
   "cell_type": "markdown",
   "id": "cbe7edb2",
   "metadata": {},
   "source": [
    "**2.Slicing operation:**\n"
   ]
  },
  {
   "cell_type": "markdown",
   "id": "8cf4bd10",
   "metadata": {},
   "source": [
    "&rarr;The Process of Obtaining Range of Characters / Sub String from Given Main String Data is called \n",
    "    Slicing Operation.<br>\n",
    "&rarr;Slicing Operations contains 5 Syntaxes.\n"
   ]
  },
  {
   "cell_type": "markdown",
   "id": "b40117db",
   "metadata": {},
   "source": [
    "<b>Syntax-1: strobj[Begin:End]<b>\n"
   ]
  },
  {
   "cell_type": "markdown",
   "id": "75e84b27",
   "metadata": {},
   "source": [
    "&rarr;This Syntax gets the range of chars OR Sub String from BEGIN Index to END-1 Index \n",
    "    provided BEGIN Index <END Index Otherwise we never get any result."
   ]
  },
  {
   "cell_type": "code",
   "execution_count": 31,
   "id": "d3f94c37",
   "metadata": {},
   "outputs": [
    {
     "data": {
      "text/plain": [
       "'python'"
      ]
     },
     "execution_count": 31,
     "metadata": {},
     "output_type": "execute_result"
    }
   ],
   "source": [
    "s=\"python\"\n",
    "s"
   ]
  },
  {
   "cell_type": "code",
   "execution_count": 32,
   "id": "5ad37938",
   "metadata": {},
   "outputs": [
    {
     "data": {
      "text/plain": [
       "'ytho'"
      ]
     },
     "execution_count": 32,
     "metadata": {},
     "output_type": "execute_result"
    }
   ],
   "source": [
    "s[1:5]"
   ]
  },
  {
   "cell_type": "code",
   "execution_count": 33,
   "id": "78ec2843",
   "metadata": {},
   "outputs": [
    {
     "data": {
      "text/plain": [
       "'th'"
      ]
     },
     "execution_count": 33,
     "metadata": {},
     "output_type": "execute_result"
    }
   ],
   "source": [
    "s[2:4]"
   ]
  },
  {
   "cell_type": "code",
   "execution_count": 34,
   "id": "63996b4b",
   "metadata": {},
   "outputs": [
    {
     "data": {
      "text/plain": [
       "'python'"
      ]
     },
     "execution_count": 34,
     "metadata": {},
     "output_type": "execute_result"
    }
   ],
   "source": [
    "s[0:6]"
   ]
  },
  {
   "cell_type": "code",
   "execution_count": 35,
   "id": "42509104",
   "metadata": {},
   "outputs": [
    {
     "data": {
      "text/plain": [
       "'hon'"
      ]
     },
     "execution_count": 35,
     "metadata": {},
     "output_type": "execute_result"
    }
   ],
   "source": [
    "s[3:6]"
   ]
  },
  {
   "cell_type": "markdown",
   "id": "803fffd9",
   "metadata": {},
   "source": [
    "**Sub Rule:  strobj[PosBegin:NegEnd]**\n"
   ]
  },
  {
   "cell_type": "markdown",
   "id": "81b4a6fb",
   "metadata": {},
   "source": [
    "&rarr;This Syntax Gives Range of Chars from PosBegin to NegEnd-1 Index Provided PosBeg>NegEnd Index Otherwise we never get  any result (space)\n"
   ]
  },
  {
   "cell_type": "code",
   "execution_count": 42,
   "id": "8d52167f",
   "metadata": {},
   "outputs": [
    {
     "name": "stdout",
     "output_type": "stream",
     "text": [
      "PYTHON\n"
     ]
    }
   ],
   "source": [
    "s=\"PYTHON\"\n",
    "print(s)\n"
   ]
  },
  {
   "cell_type": "code",
   "execution_count": 43,
   "id": "c8fafd1c",
   "metadata": {},
   "outputs": [
    {
     "data": {
      "text/plain": [
       "'YT'"
      ]
     },
     "execution_count": 43,
     "metadata": {},
     "output_type": "execute_result"
    }
   ],
   "source": [
    "s[1:-3]"
   ]
  },
  {
   "cell_type": "code",
   "execution_count": 44,
   "id": "e3422334",
   "metadata": {},
   "outputs": [
    {
     "data": {
      "text/plain": [
       "''"
      ]
     },
     "execution_count": 44,
     "metadata": {},
     "output_type": "execute_result"
    }
   ],
   "source": [
    "s[-3:-3]"
   ]
  },
  {
   "cell_type": "code",
   "execution_count": 41,
   "id": "651e147a",
   "metadata": {},
   "outputs": [
    {
     "data": {
      "text/plain": [
       "'THO'"
      ]
     },
     "execution_count": 41,
     "metadata": {},
     "output_type": "execute_result"
    }
   ],
   "source": [
    "s[2:-1]"
   ]
  },
  {
   "cell_type": "markdown",
   "id": "7070a80e",
   "metadata": {},
   "source": [
    "**Syntax-2:      strobj [Begin :   ]**\n"
   ]
  },
  {
   "cell_type": "markdown",
   "id": "3173fdb1",
   "metadata": {},
   "source": [
    "&rarr;In This Syntax we are specifying BEGIN Index and Not Specifying END Index.<br>\n",
    "&rarr;If we don't specify END Index then PVM Takes upto Last Character.<br>\n",
    "                        (OR)<br>\n",
    "&rarr;If we don't specify END Index then PVM Takes END Index as  len(strobj)"
   ]
  },
  {
   "cell_type": "code",
   "execution_count": 45,
   "id": "4f7de576",
   "metadata": {},
   "outputs": [
    {
     "data": {
      "text/plain": [
       "'Python'"
      ]
     },
     "execution_count": 45,
     "metadata": {},
     "output_type": "execute_result"
    }
   ],
   "source": [
    "s=\"Python\"\n",
    "s"
   ]
  },
  {
   "cell_type": "code",
   "execution_count": 46,
   "id": "b0533bd3",
   "metadata": {},
   "outputs": [
    {
     "data": {
      "text/plain": [
       "'hon'"
      ]
     },
     "execution_count": 46,
     "metadata": {},
     "output_type": "execute_result"
    }
   ],
   "source": [
    "s[3:]"
   ]
  },
  {
   "cell_type": "code",
   "execution_count": 47,
   "id": "676ecb7a",
   "metadata": {},
   "outputs": [
    {
     "data": {
      "text/plain": [
       "'on'"
      ]
     },
     "execution_count": 47,
     "metadata": {},
     "output_type": "execute_result"
    }
   ],
   "source": [
    "s[4:]"
   ]
  },
  {
   "cell_type": "code",
   "execution_count": 48,
   "id": "31ccf73e",
   "metadata": {},
   "outputs": [
    {
     "data": {
      "text/plain": [
       "'ython'"
      ]
     },
     "execution_count": 48,
     "metadata": {},
     "output_type": "execute_result"
    }
   ],
   "source": [
    "s[1:]"
   ]
  },
  {
   "cell_type": "code",
   "execution_count": 49,
   "id": "43262401",
   "metadata": {},
   "outputs": [
    {
     "data": {
      "text/plain": [
       "'on'"
      ]
     },
     "execution_count": 49,
     "metadata": {},
     "output_type": "execute_result"
    }
   ],
   "source": [
    "s[4:]"
   ]
  },
  {
   "cell_type": "code",
   "execution_count": 51,
   "id": "5208be32",
   "metadata": {},
   "outputs": [],
   "source": [
    "s=\"python\""
   ]
  },
  {
   "cell_type": "code",
   "execution_count": 52,
   "id": "6d9e65c8",
   "metadata": {},
   "outputs": [
    {
     "data": {
      "text/plain": [
       "'thon'"
      ]
     },
     "execution_count": 52,
     "metadata": {},
     "output_type": "execute_result"
    }
   ],
   "source": [
    "s[-4:]"
   ]
  },
  {
   "cell_type": "code",
   "execution_count": 53,
   "id": "fa7d67f9",
   "metadata": {},
   "outputs": [
    {
     "data": {
      "text/plain": [
       "'on'"
      ]
     },
     "execution_count": 53,
     "metadata": {},
     "output_type": "execute_result"
    }
   ],
   "source": [
    "s[-2:]"
   ]
  },
  {
   "cell_type": "code",
   "execution_count": 55,
   "id": "959a3b1a",
   "metadata": {},
   "outputs": [
    {
     "data": {
      "text/plain": [
       "'hon'"
      ]
     },
     "execution_count": 55,
     "metadata": {},
     "output_type": "execute_result"
    }
   ],
   "source": [
    "s[-3:]"
   ]
  },
  {
   "cell_type": "markdown",
   "id": "6bffb240",
   "metadata": {},
   "source": [
    "**Syntax-4:      strobj [ :  ]**\n"
   ]
  },
  {
   "cell_type": "markdown",
   "id": "18149ea5",
   "metadata": {},
   "source": [
    "&rarr;In This Syntax we are not specifyingBoth BEGIN Index and  END Index.<br>\n",
    "&rarr;If we don't specify Begin Index and END Index then PVM Takes First Character  upto Last Character <br>\n",
    "(OR)<br>\n",
    "&rarr;If we don't specify Begin Index and  END Index then PVM Takes Begin Index as 0 or -len(strobj) and  \n",
    "    END Index as  len(strobj) or -1\n"
   ]
  },
  {
   "cell_type": "code",
   "execution_count": 57,
   "id": "3962c31d",
   "metadata": {},
   "outputs": [
    {
     "data": {
      "text/plain": [
       "'Python'"
      ]
     },
     "execution_count": 57,
     "metadata": {},
     "output_type": "execute_result"
    }
   ],
   "source": [
    "s=\"Python\"\n",
    "s"
   ]
  },
  {
   "cell_type": "code",
   "execution_count": 58,
   "id": "47d0ffc8",
   "metadata": {},
   "outputs": [
    {
     "data": {
      "text/plain": [
       "'Python'"
      ]
     },
     "execution_count": 58,
     "metadata": {},
     "output_type": "execute_result"
    }
   ],
   "source": [
    "s[:]"
   ]
  },
  {
   "cell_type": "code",
   "execution_count": 59,
   "id": "b2c142f5",
   "metadata": {},
   "outputs": [
    {
     "data": {
      "text/plain": [
       "'Python'"
      ]
     },
     "execution_count": 59,
     "metadata": {},
     "output_type": "execute_result"
    }
   ],
   "source": [
    "s[0:]"
   ]
  },
  {
   "cell_type": "code",
   "execution_count": 60,
   "id": "866ebcdb",
   "metadata": {},
   "outputs": [
    {
     "data": {
      "text/plain": [
       "'Python'"
      ]
     },
     "execution_count": 60,
     "metadata": {},
     "output_type": "execute_result"
    }
   ],
   "source": [
    "s[-len(s):]"
   ]
  },
  {
   "cell_type": "markdown",
   "id": "ddd6e816",
   "metadata": {},
   "source": [
    "**&rarr;NOTE: In Syntax-1,Syntax-2,Syntax-3, and Syntax-4, we are getting the data in FORWARD DIRECTION\n",
    "with Step 1 (letter by letter--sequence)**\n"
   ]
  },
  {
   "cell_type": "markdown",
   "id": "3d3d177f",
   "metadata": {},
   "source": [
    "**Syntax-5. Strobj[Begin:End:Step]**\n"
   ]
  },
  {
   "cell_type": "markdown",
   "id": "42b34dc7",
   "metadata": {},
   "source": [
    "* Rule-1:  Here BEGIN,END and STEP can either +VE or -VE\n",
    "\n",
    "* Rule-2: If STEP Value is +VE then PVM get the Chars from BEGIN Index to END-1 Index in FORWARD \n",
    "            Direction provided BEGIN<END otherwise never get any Result\n",
    "\n",
    "* Rule-3: If STEP Value is -VE then PVM gets the Chars from BEGIN Index to END+1 Index in BACKWARD \n",
    "            Direction Provided BEGIN>END otherwise never get any Result\n",
    "\n",
    "* Rule-4: When we extract the chars in FORWARD Direction, If the END Index is 0 then we never get any \n",
    "            result\n",
    "\n",
    "* Rule-5: When we extract the chars in BACKWARD Direction, If the END Index is -1 then we never get any \n",
    "            result\n"
   ]
  },
  {
   "cell_type": "code",
   "execution_count": 61,
   "id": "2a48edec",
   "metadata": {},
   "outputs": [
    {
     "data": {
      "text/plain": [
       "'python'"
      ]
     },
     "execution_count": 61,
     "metadata": {},
     "output_type": "execute_result"
    }
   ],
   "source": [
    "s=\"python\"\n",
    "s"
   ]
  },
  {
   "cell_type": "code",
   "execution_count": 64,
   "id": "0345efd8",
   "metadata": {},
   "outputs": [
    {
     "data": {
      "text/plain": [
       "'pytho'"
      ]
     },
     "execution_count": 64,
     "metadata": {},
     "output_type": "execute_result"
    }
   ],
   "source": [
    "s[0:5:1]"
   ]
  },
  {
   "cell_type": "code",
   "execution_count": 65,
   "id": "1f4151ee",
   "metadata": {},
   "outputs": [
    {
     "data": {
      "text/plain": [
       "'pto'"
      ]
     },
     "execution_count": 65,
     "metadata": {},
     "output_type": "execute_result"
    }
   ],
   "source": [
    "s[0:6:2]"
   ]
  },
  {
   "cell_type": "code",
   "execution_count": 66,
   "id": "717ffd3c",
   "metadata": {},
   "outputs": [
    {
     "data": {
      "text/plain": [
       "'ph'"
      ]
     },
     "execution_count": 66,
     "metadata": {},
     "output_type": "execute_result"
    }
   ],
   "source": [
    "s[::3]"
   ]
  },
  {
   "cell_type": "code",
   "execution_count": 69,
   "id": "da87da43",
   "metadata": {},
   "outputs": [
    {
     "data": {
      "text/plain": [
       "'pytho'"
      ]
     },
     "execution_count": 69,
     "metadata": {},
     "output_type": "execute_result"
    }
   ],
   "source": [
    "s[-6:-1:1]"
   ]
  },
  {
   "cell_type": "code",
   "execution_count": 70,
   "id": "a2568b89",
   "metadata": {},
   "outputs": [
    {
     "data": {
      "text/plain": [
       "'p'"
      ]
     },
     "execution_count": 70,
     "metadata": {},
     "output_type": "execute_result"
    }
   ],
   "source": [
    "s[-6:1:2]"
   ]
  },
  {
   "cell_type": "code",
   "execution_count": 71,
   "id": "5740e668",
   "metadata": {},
   "outputs": [
    {
     "data": {
      "text/plain": [
       "'pto'"
      ]
     },
     "execution_count": 71,
     "metadata": {},
     "output_type": "execute_result"
    }
   ],
   "source": [
    "s[-6::2]"
   ]
  },
  {
   "cell_type": "code",
   "execution_count": 72,
   "id": "87efc047",
   "metadata": {},
   "outputs": [
    {
     "data": {
      "text/plain": [
       "'ph'"
      ]
     },
     "execution_count": 72,
     "metadata": {},
     "output_type": "execute_result"
    }
   ],
   "source": [
    "s[:-1:3]"
   ]
  },
  {
   "cell_type": "code",
   "execution_count": 73,
   "id": "25c2ae1d",
   "metadata": {},
   "outputs": [
    {
     "data": {
      "text/plain": [
       "''"
      ]
     },
     "execution_count": 73,
     "metadata": {},
     "output_type": "execute_result"
    }
   ],
   "source": [
    "s[6:0:3]"
   ]
  },
  {
   "cell_type": "code",
   "execution_count": 74,
   "id": "6858faa7",
   "metadata": {},
   "outputs": [
    {
     "data": {
      "text/plain": [
       "''"
      ]
     },
     "execution_count": 74,
     "metadata": {},
     "output_type": "execute_result"
    }
   ],
   "source": [
    "s[-1:-6:3]"
   ]
  },
  {
   "cell_type": "code",
   "execution_count": 75,
   "id": "960fd542",
   "metadata": {},
   "outputs": [
    {
     "data": {
      "text/plain": [
       "'noht'"
      ]
     },
     "execution_count": 75,
     "metadata": {},
     "output_type": "execute_result"
    }
   ],
   "source": [
    "s[5:1:-1]"
   ]
  },
  {
   "cell_type": "code",
   "execution_count": 76,
   "id": "f0d34f00",
   "metadata": {},
   "outputs": [
    {
     "data": {
      "text/plain": [
       "'nohtyp'"
      ]
     },
     "execution_count": 76,
     "metadata": {},
     "output_type": "execute_result"
    }
   ],
   "source": [
    "s[::-1]"
   ]
  },
  {
   "cell_type": "code",
   "execution_count": 77,
   "id": "d7393e84",
   "metadata": {},
   "outputs": [
    {
     "data": {
      "text/plain": [
       "''"
      ]
     },
     "execution_count": 77,
     "metadata": {},
     "output_type": "execute_result"
    }
   ],
   "source": [
    "s[1:6:-1]"
   ]
  },
  {
   "cell_type": "code",
   "execution_count": 78,
   "id": "b55147ad",
   "metadata": {},
   "outputs": [
    {
     "data": {
      "text/plain": [
       "'nhy'"
      ]
     },
     "execution_count": 78,
     "metadata": {},
     "output_type": "execute_result"
    }
   ],
   "source": [
    "s[5:0:-2]"
   ]
  },
  {
   "cell_type": "code",
   "execution_count": 79,
   "id": "cacd24ee",
   "metadata": {},
   "outputs": [
    {
     "data": {
      "text/plain": [
       "'otp'"
      ]
     },
     "execution_count": 79,
     "metadata": {},
     "output_type": "execute_result"
    }
   ],
   "source": [
    "s[4::-2]"
   ]
  },
  {
   "cell_type": "code",
   "execution_count": 81,
   "id": "74832358",
   "metadata": {},
   "outputs": [
    {
     "data": {
      "text/plain": [
       "'pto'"
      ]
     },
     "execution_count": 81,
     "metadata": {},
     "output_type": "execute_result"
    }
   ],
   "source": [
    "s[0:6:2]"
   ]
  },
  {
   "cell_type": "code",
   "execution_count": 82,
   "id": "f480e06a",
   "metadata": {},
   "outputs": [
    {
     "data": {
      "text/plain": [
       "'python'"
      ]
     },
     "execution_count": 82,
     "metadata": {},
     "output_type": "execute_result"
    }
   ],
   "source": [
    "s[:100]"
   ]
  },
  {
   "cell_type": "code",
   "execution_count": 83,
   "id": "6ad47904",
   "metadata": {},
   "outputs": [
    {
     "data": {
      "text/plain": [
       "'pytho'"
      ]
     },
     "execution_count": 83,
     "metadata": {},
     "output_type": "execute_result"
    }
   ],
   "source": [
    "s[-100:-1]"
   ]
  },
  {
   "cell_type": "code",
   "execution_count": 84,
   "id": "83a21964",
   "metadata": {},
   "outputs": [
    {
     "data": {
      "text/plain": [
       "'python'"
      ]
     },
     "execution_count": 84,
     "metadata": {},
     "output_type": "execute_result"
    }
   ],
   "source": [
    "s[-100:]"
   ]
  },
  {
   "cell_type": "markdown",
   "id": "7d5047e5",
   "metadata": {},
   "source": [
    "### Ascii values"
   ]
  },
  {
   "cell_type": "markdown",
   "id": "ec7665cc",
   "metadata": {},
   "source": [
    "ASCII stands for American Standard Code for Information Interchange."
   ]
  },
  {
   "cell_type": "markdown",
   "id": "6eaa9ac3",
   "metadata": {},
   "source": [
    "It is a numeric value given to different characters and symbols, for computers to store and manipulate."
   ]
  },
  {
   "cell_type": "code",
   "execution_count": 85,
   "id": "1d384c5f",
   "metadata": {},
   "outputs": [
    {
     "data": {
      "text/plain": [
       "97"
      ]
     },
     "execution_count": 85,
     "metadata": {},
     "output_type": "execute_result"
    }
   ],
   "source": [
    "ord('a')"
   ]
  },
  {
   "cell_type": "code",
   "execution_count": 86,
   "id": "ac648508",
   "metadata": {},
   "outputs": [
    {
     "data": {
      "text/plain": [
       "65"
      ]
     },
     "execution_count": 86,
     "metadata": {},
     "output_type": "execute_result"
    }
   ],
   "source": [
    "ord(\"A\")"
   ]
  },
  {
   "cell_type": "code",
   "execution_count": 89,
   "id": "d9057b75",
   "metadata": {},
   "outputs": [
    {
     "data": {
      "text/plain": [
       "'Z'"
      ]
     },
     "execution_count": 89,
     "metadata": {},
     "output_type": "execute_result"
    }
   ],
   "source": [
    "chr(90)"
   ]
  },
  {
   "cell_type": "code",
   "execution_count": 91,
   "id": "c91415af",
   "metadata": {},
   "outputs": [
    {
     "data": {
      "text/plain": [
       "'a'"
      ]
     },
     "execution_count": 91,
     "metadata": {},
     "output_type": "execute_result"
    }
   ],
   "source": [
    "chr(97)"
   ]
  },
  {
   "cell_type": "code",
   "execution_count": 92,
   "id": "c0f94dc9",
   "metadata": {},
   "outputs": [
    {
     "name": "stdout",
     "output_type": "stream",
     "text": [
      "['__add__', '__class__', '__contains__', '__delattr__', '__dir__', '__doc__', '__eq__', '__format__', '__ge__', '__getattribute__', '__getitem__', '__getnewargs__', '__gt__', '__hash__', '__init__', '__init_subclass__', '__iter__', '__le__', '__len__', '__lt__', '__mod__', '__mul__', '__ne__', '__new__', '__reduce__', '__reduce_ex__', '__repr__', '__rmod__', '__rmul__', '__setattr__', '__sizeof__', '__str__', '__subclasshook__', 'capitalize', 'casefold', 'center', 'count', 'encode', 'endswith', 'expandtabs', 'find', 'format', 'format_map', 'index', 'isalnum', 'isalpha', 'isascii', 'isdecimal', 'isdigit', 'isidentifier', 'islower', 'isnumeric', 'isprintable', 'isspace', 'istitle', 'isupper', 'join', 'ljust', 'lower', 'lstrip', 'maketrans', 'partition', 'removeprefix', 'removesuffix', 'replace', 'rfind', 'rindex', 'rjust', 'rpartition', 'rsplit', 'rstrip', 'split', 'splitlines', 'startswith', 'strip', 'swapcase', 'title', 'translate', 'upper', 'zfill']\n"
     ]
    }
   ],
   "source": [
    "print(dir('x'))"
   ]
  },
  {
   "cell_type": "markdown",
   "id": "ccc86b59",
   "metadata": {},
   "source": [
    "### STRING METHODS"
   ]
  },
  {
   "cell_type": "markdown",
   "id": "96cfb524",
   "metadata": {},
   "source": [
    "### capitalize()"
   ]
  },
  {
   "cell_type": "markdown",
   "id": "27ad8c00",
   "metadata": {},
   "source": [
    "* This Function is used for capitalizing the first letter word of a given sentence only"
   ]
  },
  {
   "cell_type": "code",
   "execution_count": 93,
   "id": "39cd1d64",
   "metadata": {},
   "outputs": [
    {
     "data": {
      "text/plain": [
       "\"hard work beats talent when talent doesn't work hard.\""
      ]
     },
     "execution_count": 93,
     "metadata": {},
     "output_type": "execute_result"
    }
   ],
   "source": [
    "bz=\"hard work beats talent when talent doesn't work hard.\" \n",
    "bz"
   ]
  },
  {
   "cell_type": "code",
   "execution_count": 96,
   "id": "adea1545",
   "metadata": {},
   "outputs": [
    {
     "data": {
      "text/plain": [
       "\"Hard work beats talent when talent doesn't work hard.\""
      ]
     },
     "execution_count": 96,
     "metadata": {},
     "output_type": "execute_result"
    }
   ],
   "source": [
    "bz.capitalize()"
   ]
  },
  {
   "cell_type": "markdown",
   "id": "752267b5",
   "metadata": {},
   "source": [
    "### title()"
   ]
  },
  {
   "cell_type": "markdown",
   "id": "39d88f31",
   "metadata": {},
   "source": [
    "* the first alphabet of word converts into capital"
   ]
  },
  {
   "cell_type": "markdown",
   "id": "9c2aeb1c",
   "metadata": {},
   "source": [
    "syntax: s.title()\n",
    "or\n",
    "s=s.title()"
   ]
  },
  {
   "cell_type": "code",
   "execution_count": 97,
   "id": "f6dc12f9",
   "metadata": {},
   "outputs": [
    {
     "data": {
      "text/plain": [
       "\"hard work beats talent when talent doesn't work hard.\""
      ]
     },
     "execution_count": 97,
     "metadata": {},
     "output_type": "execute_result"
    }
   ],
   "source": [
    "bz=\"hard work beats talent when talent doesn't work hard.\" \n",
    "bz"
   ]
  },
  {
   "cell_type": "code",
   "execution_count": 98,
   "id": "6a1fc8cf",
   "metadata": {},
   "outputs": [
    {
     "data": {
      "text/plain": [
       "\"Hard Work Beats Talent When Talent Doesn'T Work Hard.\""
      ]
     },
     "execution_count": 98,
     "metadata": {},
     "output_type": "execute_result"
    }
   ],
   "source": [
    "bz.title()"
   ]
  },
  {
   "cell_type": "markdown",
   "id": "ee437303",
   "metadata": {},
   "source": [
    "### swapcase()"
   ]
  },
  {
   "cell_type": "markdown",
   "id": "f1619302",
   "metadata": {},
   "source": [
    "* The swapcase() functions returns a string where all the upper case letters are lower case and vice versa."
   ]
  },
  {
   "cell_type": "code",
   "execution_count": 99,
   "id": "b4eb36ac",
   "metadata": {},
   "outputs": [
    {
     "data": {
      "text/plain": [
       "\"Hard Work Beats Talent When Talent Doesn'T Work Hard.\""
      ]
     },
     "execution_count": 99,
     "metadata": {},
     "output_type": "execute_result"
    }
   ],
   "source": [
    "h=\"Hard Work Beats Talent When Talent Doesn'T Work Hard.\"\n",
    "h"
   ]
  },
  {
   "cell_type": "code",
   "execution_count": 100,
   "id": "efd5a227",
   "metadata": {},
   "outputs": [
    {
     "data": {
      "text/plain": [
       "\"hARD wORK bEATS tALENT wHEN tALENT dOESN't wORK hARD.\""
      ]
     },
     "execution_count": 100,
     "metadata": {},
     "output_type": "execute_result"
    }
   ],
   "source": [
    "h.swapcase()"
   ]
  },
  {
   "cell_type": "markdown",
   "id": "abe9878a",
   "metadata": {},
   "source": [
    "### casefold()"
   ]
  },
  {
   "cell_type": "markdown",
   "id": "cfad775a",
   "metadata": {},
   "source": [
    "* This method changes string lower case to more lower case , special characters like Germen character (ß) is already in lower case so, the lower method doesn’t make the conversion.\n",
    "* but the casefold() method will convert ß to its equivalent character ss"
   ]
  },
  {
   "cell_type": "code",
   "execution_count": 2,
   "id": "562eacee",
   "metadata": {},
   "outputs": [
    {
     "data": {
      "text/plain": [
       "'sjuhdsscnjdgin'"
      ]
     },
     "execution_count": 2,
     "metadata": {},
     "output_type": "execute_result"
    }
   ],
   "source": [
    "x='SjuhdßcnjdGIN' \n",
    "x.casefold()"
   ]
  },
  {
   "cell_type": "markdown",
   "id": "c003061a",
   "metadata": {},
   "source": [
    "### find()"
   ]
  },
  {
   "cell_type": "markdown",
   "id": "c50223f3",
   "metadata": {},
   "source": [
    "* The find() method finds the first occurrence of the specified value.\n",
    "\n",
    "* The find() method returns -1 if the value is not found."
   ]
  },
  {
   "cell_type": "code",
   "execution_count": 3,
   "id": "39a9545c",
   "metadata": {},
   "outputs": [
    {
     "data": {
      "text/plain": [
       "\"Hard Work Beats Talent When Talent Doesn'T Work Hard.\""
      ]
     },
     "execution_count": 3,
     "metadata": {},
     "output_type": "execute_result"
    }
   ],
   "source": [
    "i=\"Hard Work Beats Talent When Talent Doesn'T Work Hard.\"\n",
    "i"
   ]
  },
  {
   "cell_type": "code",
   "execution_count": 4,
   "id": "b346f5ce",
   "metadata": {},
   "outputs": [
    {
     "data": {
      "text/plain": [
       "13"
      ]
     },
     "execution_count": 4,
     "metadata": {},
     "output_type": "execute_result"
    }
   ],
   "source": [
    "i.find('t')"
   ]
  },
  {
   "cell_type": "markdown",
   "id": "1727567e",
   "metadata": {},
   "source": [
    "**string.find(substring, start, end)**"
   ]
  },
  {
   "cell_type": "code",
   "execution_count": 5,
   "id": "0d7d3b8a",
   "metadata": {},
   "outputs": [
    {
     "data": {
      "text/plain": [
       "29"
      ]
     },
     "execution_count": 5,
     "metadata": {},
     "output_type": "execute_result"
    }
   ],
   "source": [
    "i.find('a',20)"
   ]
  },
  {
   "cell_type": "code",
   "execution_count": 6,
   "id": "328907f4",
   "metadata": {},
   "outputs": [
    {
     "data": {
      "text/plain": [
       "24"
      ]
     },
     "execution_count": 6,
     "metadata": {},
     "output_type": "execute_result"
    }
   ],
   "source": [
    "i.find('h',10,25)"
   ]
  },
  {
   "cell_type": "markdown",
   "id": "40a76f3e",
   "metadata": {},
   "source": [
    "### rfind():\n"
   ]
  },
  {
   "cell_type": "markdown",
   "id": "dc26065c",
   "metadata": {},
   "source": [
    "* rfind() used to find the highest (rightmost) index at which a specified substring is found within a string.\n",
    "* If the substring is not found, it returns -1\n"
   ]
  },
  {
   "cell_type": "code",
   "execution_count": 8,
   "id": "e2687b36",
   "metadata": {},
   "outputs": [
    {
     "data": {
      "text/plain": [
       "'Hello, welcome to my world.'"
      ]
     },
     "execution_count": 8,
     "metadata": {},
     "output_type": "execute_result"
    }
   ],
   "source": [
    "x=\"Hello, welcome to my world.\"\n",
    "x"
   ]
  },
  {
   "cell_type": "code",
   "execution_count": 9,
   "id": "ea2ec856",
   "metadata": {},
   "outputs": [
    {
     "data": {
      "text/plain": [
       "13"
      ]
     },
     "execution_count": 9,
     "metadata": {},
     "output_type": "execute_result"
    }
   ],
   "source": [
    "x.rfind('e')"
   ]
  },
  {
   "cell_type": "markdown",
   "id": "a8fdb0c9",
   "metadata": {},
   "source": [
    "**string.rfind(substring, start, end)**"
   ]
  },
  {
   "cell_type": "code",
   "execution_count": 10,
   "id": "35a98fbc",
   "metadata": {},
   "outputs": [
    {
     "data": {
      "text/plain": [
       "21"
      ]
     },
     "execution_count": 10,
     "metadata": {},
     "output_type": "execute_result"
    }
   ],
   "source": [
    "x.rfind('w',2)"
   ]
  },
  {
   "cell_type": "code",
   "execution_count": 11,
   "id": "b7ae9121",
   "metadata": {},
   "outputs": [
    {
     "data": {
      "text/plain": [
       "8"
      ]
     },
     "execution_count": 11,
     "metadata": {},
     "output_type": "execute_result"
    }
   ],
   "source": [
    "x.rfind(\"e\",6,11)"
   ]
  },
  {
   "cell_type": "code",
   "execution_count": 12,
   "id": "c01b949f",
   "metadata": {},
   "outputs": [
    {
     "data": {
      "text/plain": [
       "12"
      ]
     },
     "execution_count": 12,
     "metadata": {},
     "output_type": "execute_result"
    }
   ],
   "source": [
    "x.rfind(\"m\",8,15)"
   ]
  },
  {
   "cell_type": "markdown",
   "id": "416e2143",
   "metadata": {},
   "source": [
    "### count():"
   ]
  },
  {
   "cell_type": "markdown",
   "id": "4605cd31",
   "metadata": {},
   "source": [
    "* The count() functions return the numbers of times a specified values appears in the string"
   ]
  },
  {
   "cell_type": "code",
   "execution_count": 14,
   "id": "082a79cb",
   "metadata": {},
   "outputs": [
    {
     "data": {
      "text/plain": [
       "2"
      ]
     },
     "execution_count": 14,
     "metadata": {},
     "output_type": "execute_result"
    }
   ],
   "source": [
    "s=\"MISSISSIPPI\"\n",
    "s.count(\"P\")"
   ]
  },
  {
   "cell_type": "code",
   "execution_count": 15,
   "id": "93f17907",
   "metadata": {},
   "outputs": [
    {
     "data": {
      "text/plain": [
       "4"
      ]
     },
     "execution_count": 15,
     "metadata": {},
     "output_type": "execute_result"
    }
   ],
   "source": [
    "s.count(\"S\")"
   ]
  },
  {
   "cell_type": "code",
   "execution_count": 16,
   "id": "b9d879e0",
   "metadata": {},
   "outputs": [
    {
     "data": {
      "text/plain": [
       "2"
      ]
     },
     "execution_count": 16,
     "metadata": {},
     "output_type": "execute_result"
    }
   ],
   "source": [
    "s.count('P',6,10)"
   ]
  },
  {
   "cell_type": "code",
   "execution_count": 17,
   "id": "e966d9cc",
   "metadata": {},
   "outputs": [
    {
     "data": {
      "text/plain": [
       "3"
      ]
     },
     "execution_count": 17,
     "metadata": {},
     "output_type": "execute_result"
    }
   ],
   "source": [
    "l=[1,2,4,2,1,2,3,4,1]\n",
    "l.count(2)"
   ]
  },
  {
   "cell_type": "markdown",
   "id": "78a86404",
   "metadata": {},
   "source": [
    "### index():"
   ]
  },
  {
   "cell_type": "markdown",
   "id": "1368ac79",
   "metadata": {},
   "source": [
    "* This function obtains index of the specified values\n",
    "* If the specified values doesnot exist the we get value Error\n",
    "* It is similar to the find() method, but with one key difference: if the element or substring is not found, index() raises a ValueError"
   ]
  },
  {
   "cell_type": "code",
   "execution_count": 19,
   "id": "0ef22382",
   "metadata": {},
   "outputs": [
    {
     "data": {
      "text/plain": [
       "1"
      ]
     },
     "execution_count": 19,
     "metadata": {},
     "output_type": "execute_result"
    }
   ],
   "source": [
    "s=\"python\"\n",
    "s.index(\"y\")"
   ]
  },
  {
   "cell_type": "code",
   "execution_count": 20,
   "id": "ef20154a",
   "metadata": {},
   "outputs": [
    {
     "data": {
      "text/plain": [
       "5"
      ]
     },
     "execution_count": 20,
     "metadata": {},
     "output_type": "execute_result"
    }
   ],
   "source": [
    "s.index(\"n\")"
   ]
  },
  {
   "cell_type": "code",
   "execution_count": 21,
   "id": "28c11056",
   "metadata": {},
   "outputs": [
    {
     "ename": "ValueError",
     "evalue": "substring not found",
     "output_type": "error",
     "traceback": [
      "\u001b[1;31m---------------------------------------------------------------------------\u001b[0m",
      "\u001b[1;31mValueError\u001b[0m                                Traceback (most recent call last)",
      "\u001b[1;32m~\\AppData\\Local\\Temp\\ipykernel_7980\\455055021.py\u001b[0m in \u001b[0;36m<module>\u001b[1;34m\u001b[0m\n\u001b[1;32m----> 1\u001b[1;33m \u001b[0ms\u001b[0m\u001b[1;33m.\u001b[0m\u001b[0mindex\u001b[0m\u001b[1;33m(\u001b[0m\u001b[1;34m\"a\"\u001b[0m\u001b[1;33m)\u001b[0m\u001b[1;33m\u001b[0m\u001b[1;33m\u001b[0m\u001b[0m\n\u001b[0m",
      "\u001b[1;31mValueError\u001b[0m: substring not found"
     ]
    }
   ],
   "source": [
    "s.index(\"a\")"
   ]
  },
  {
   "cell_type": "code",
   "execution_count": 22,
   "id": "950697e7",
   "metadata": {},
   "outputs": [
    {
     "data": {
      "text/plain": [
       "3"
      ]
     },
     "execution_count": 22,
     "metadata": {},
     "output_type": "execute_result"
    }
   ],
   "source": [
    "l=['python',25.5,40,True]\n",
    "l.index(True)"
   ]
  },
  {
   "cell_type": "markdown",
   "id": "9f28dae4",
   "metadata": {},
   "source": [
    "### rindex():"
   ]
  },
  {
   "cell_type": "markdown",
   "id": "33abd8bd",
   "metadata": {},
   "source": [
    "* This Function obtains index of last occurrence of the specified element or substring.\n",
    "* If the specified values doesnot exist then we get value error"
   ]
  },
  {
   "cell_type": "markdown",
   "id": "11d69165",
   "metadata": {},
   "source": [
    "**string.rindex(substring, start, end)**"
   ]
  },
  {
   "cell_type": "code",
   "execution_count": 24,
   "id": "96bad01b",
   "metadata": {},
   "outputs": [
    {
     "data": {
      "text/plain": [
       "'python programming language'"
      ]
     },
     "execution_count": 24,
     "metadata": {},
     "output_type": "execute_result"
    }
   ],
   "source": [
    "v=\"python programming language\"\n",
    "v"
   ]
  },
  {
   "cell_type": "code",
   "execution_count": 25,
   "id": "0f3d5611",
   "metadata": {},
   "outputs": [
    {
     "data": {
      "text/plain": [
       "21"
      ]
     },
     "execution_count": 25,
     "metadata": {},
     "output_type": "execute_result"
    }
   ],
   "source": [
    "v.rindex(\"n\")"
   ]
  },
  {
   "cell_type": "code",
   "execution_count": 26,
   "id": "043027c7",
   "metadata": {},
   "outputs": [
    {
     "data": {
      "text/plain": [
       "24"
      ]
     },
     "execution_count": 26,
     "metadata": {},
     "output_type": "execute_result"
    }
   ],
   "source": [
    "v.rindex(\"a\",10,25)"
   ]
  },
  {
   "cell_type": "markdown",
   "id": "c181ea22",
   "metadata": {},
   "source": [
    "## replace():"
   ]
  },
  {
   "cell_type": "markdown",
   "id": "337fad97",
   "metadata": {},
   "source": [
    "* The replace() method replaces a specified phrase with another specified phrase.\n",
    "* If the substring not exist then it give entire string"
   ]
  },
  {
   "cell_type": "code",
   "execution_count": 27,
   "id": "af4cbb4f",
   "metadata": {},
   "outputs": [
    {
     "data": {
      "text/plain": [
       "'python programming language'"
      ]
     },
     "execution_count": 27,
     "metadata": {},
     "output_type": "execute_result"
    }
   ],
   "source": [
    "v=\"python programming language\"\n",
    "v"
   ]
  },
  {
   "cell_type": "markdown",
   "id": "67cd6c40",
   "metadata": {},
   "source": [
    "***new_string = original_string.replace(old_substring, new_substring, count)***"
   ]
  },
  {
   "cell_type": "code",
   "execution_count": 29,
   "id": "14add333",
   "metadata": {},
   "outputs": [
    {
     "data": {
      "text/plain": [
       "'Python Programming language'"
      ]
     },
     "execution_count": 29,
     "metadata": {},
     "output_type": "execute_result"
    }
   ],
   "source": [
    "b=v.replace('p','P')\n",
    "b"
   ]
  },
  {
   "cell_type": "code",
   "execution_count": 30,
   "id": "d8f8bd5a",
   "metadata": {},
   "outputs": [
    {
     "data": {
      "text/plain": [
       "'mississippi'"
      ]
     },
     "execution_count": 30,
     "metadata": {},
     "output_type": "execute_result"
    }
   ],
   "source": [
    "t=\"mississippi\"\n",
    "t"
   ]
  },
  {
   "cell_type": "code",
   "execution_count": 31,
   "id": "f77a8e7e",
   "metadata": {},
   "outputs": [
    {
     "data": {
      "text/plain": [
       "'miSSissippi'"
      ]
     },
     "execution_count": 31,
     "metadata": {},
     "output_type": "execute_result"
    }
   ],
   "source": [
    "t.replace('s','S',2)"
   ]
  },
  {
   "cell_type": "code",
   "execution_count": 32,
   "id": "76db3ff2",
   "metadata": {},
   "outputs": [
    {
     "data": {
      "text/plain": [
       "'mississippi'"
      ]
     },
     "execution_count": 32,
     "metadata": {},
     "output_type": "execute_result"
    }
   ],
   "source": [
    "t.replace(\"z\",\"Z\")"
   ]
  },
  {
   "cell_type": "markdown",
   "id": "be550e52",
   "metadata": {},
   "source": [
    "## split():"
   ]
  },
  {
   "cell_type": "markdown",
   "id": "6f12f344",
   "metadata": {},
   "source": [
    "* This Function is used for splitting the give string data into different words base specified delimter(- , _ ,#,%,^,;,...etc)\n",
    "* The default delimeter is space\n",
    "* The function return splitting data in to form of list object"
   ]
  },
  {
   "cell_type": "code",
   "execution_count": 33,
   "id": "d28d1f82",
   "metadata": {},
   "outputs": [
    {
     "data": {
      "text/plain": [
       "'python is an oop language'"
      ]
     },
     "execution_count": 33,
     "metadata": {},
     "output_type": "execute_result"
    }
   ],
   "source": [
    "s=\"python is an oop language\"\n",
    "s"
   ]
  },
  {
   "cell_type": "code",
   "execution_count": 34,
   "id": "26130834",
   "metadata": {},
   "outputs": [
    {
     "data": {
      "text/plain": [
       "['python', 'is', 'an', 'oop', 'language']"
      ]
     },
     "execution_count": 34,
     "metadata": {},
     "output_type": "execute_result"
    }
   ],
   "source": [
    "s.split()"
   ]
  },
  {
   "cell_type": "code",
   "execution_count": 35,
   "id": "84fc3593",
   "metadata": {},
   "outputs": [
    {
     "data": {
      "text/plain": [
       "['19', '10', '2023']"
      ]
     },
     "execution_count": 35,
     "metadata": {},
     "output_type": "execute_result"
    }
   ],
   "source": [
    "s=\"19-10-2023\"\n",
    "s.split('-')"
   ]
  },
  {
   "cell_type": "code",
   "execution_count": 36,
   "id": "24effaf5",
   "metadata": {},
   "outputs": [
    {
     "data": {
      "text/plain": [
       "'APPLE%BANANA%KIWI'"
      ]
     },
     "execution_count": 36,
     "metadata": {},
     "output_type": "execute_result"
    }
   ],
   "source": [
    "c=\"APPLE%BANANA%KIWI\"\n",
    "c"
   ]
  },
  {
   "cell_type": "code",
   "execution_count": 37,
   "id": "f3562fcb",
   "metadata": {},
   "outputs": [
    {
     "data": {
      "text/plain": [
       "['APPLE', 'BANANA', 'KIWI']"
      ]
     },
     "execution_count": 37,
     "metadata": {},
     "output_type": "execute_result"
    }
   ],
   "source": [
    "c.split('%')"
   ]
  },
  {
   "cell_type": "code",
   "execution_count": 38,
   "id": "8f3e96cc",
   "metadata": {},
   "outputs": [
    {
     "data": {
      "text/plain": [
       "'This Function is used for splitting the give string data into different words base specified delimter'"
      ]
     },
     "execution_count": 38,
     "metadata": {},
     "output_type": "execute_result"
    }
   ],
   "source": [
    "s=\"This Function is used for splitting the give string data into different words base specified delimter\"\n",
    "s"
   ]
  },
  {
   "cell_type": "code",
   "execution_count": 39,
   "id": "3338b7de",
   "metadata": {},
   "outputs": [
    {
     "data": {
      "text/plain": [
       "['This',\n",
       " 'Function',\n",
       " 'is used for splitting the give string data into different words base specified delimter']"
      ]
     },
     "execution_count": 39,
     "metadata": {},
     "output_type": "execute_result"
    }
   ],
   "source": [
    "s.split(maxsplit=2)"
   ]
  },
  {
   "cell_type": "code",
   "execution_count": 40,
   "id": "937bcc69",
   "metadata": {},
   "outputs": [
    {
     "data": {
      "text/plain": [
       "['This',\n",
       " 'Function',\n",
       " 'is',\n",
       " 'used',\n",
       " 'for',\n",
       " 'splitting the give string data into different words base specified delimter']"
      ]
     },
     "execution_count": 40,
     "metadata": {},
     "output_type": "execute_result"
    }
   ],
   "source": [
    "s.split(maxsplit=5)"
   ]
  },
  {
   "cell_type": "markdown",
   "id": "d0dace85",
   "metadata": {},
   "source": [
    "## rsplit():"
   ]
  },
  {
   "cell_type": "markdown",
   "id": "c35827bc",
   "metadata": {},
   "source": [
    "* This Function is used for splitting the give string data into different words base specified delimter\n",
    "* The only difference between the split() and rsplit() is when the maxsplit parameter is specified. If the maxsplit parameter is specified, then the rsplit() method starts splitting a string from the right side (from the last character), whereas the split() method starts splitting from the left side (from the first character)."
   ]
  },
  {
   "cell_type": "code",
   "execution_count": 42,
   "id": "4cc81fd0",
   "metadata": {},
   "outputs": [
    {
     "data": {
      "text/plain": [
       "'python is an oop language'"
      ]
     },
     "execution_count": 42,
     "metadata": {},
     "output_type": "execute_result"
    }
   ],
   "source": [
    "s=\"python is an oop language\"\n",
    "s"
   ]
  },
  {
   "cell_type": "code",
   "execution_count": 43,
   "id": "493cb218",
   "metadata": {},
   "outputs": [
    {
     "data": {
      "text/plain": [
       "['python', 'is', 'an', 'oop', 'language']"
      ]
     },
     "execution_count": 43,
     "metadata": {},
     "output_type": "execute_result"
    }
   ],
   "source": [
    "s.rsplit()"
   ]
  },
  {
   "cell_type": "code",
   "execution_count": 44,
   "id": "4c8a8c1e",
   "metadata": {},
   "outputs": [
    {
     "data": {
      "text/plain": [
       "['python is an', 'oop', 'language']"
      ]
     },
     "execution_count": 44,
     "metadata": {},
     "output_type": "execute_result"
    }
   ],
   "source": [
    "s.rsplit(maxsplit=2)"
   ]
  },
  {
   "cell_type": "markdown",
   "id": "2764bcb6",
   "metadata": {},
   "source": [
    "### partition():"
   ]
  },
  {
   "cell_type": "markdown",
   "id": "dec5c5ad",
   "metadata": {},
   "source": [
    "* This function splits the string at the first occurrence of the specified separator argument and returns a tuple containing the part before the separator,\n",
    "* If the specified separator is not found, then the partition() function returns the string itself as a first element and two empty string elements."
   ]
  },
  {
   "cell_type": "code",
   "execution_count": 46,
   "id": "dc5d3026",
   "metadata": {},
   "outputs": [
    {
     "data": {
      "text/plain": [
       "'How are you?'"
      ]
     },
     "execution_count": 46,
     "metadata": {},
     "output_type": "execute_result"
    }
   ],
   "source": [
    "a=\"How are you?\"\n",
    "a"
   ]
  },
  {
   "cell_type": "code",
   "execution_count": 47,
   "id": "1862fc22",
   "metadata": {},
   "outputs": [
    {
     "data": {
      "text/plain": [
       "('How ', 'are', ' you?')"
      ]
     },
     "execution_count": 47,
     "metadata": {},
     "output_type": "execute_result"
    }
   ],
   "source": [
    "a.partition('are')"
   ]
  },
  {
   "cell_type": "code",
   "execution_count": 48,
   "id": "dc2562aa",
   "metadata": {},
   "outputs": [
    {
     "data": {
      "text/plain": [
       "('How are ', 'you', '?')"
      ]
     },
     "execution_count": 48,
     "metadata": {},
     "output_type": "execute_result"
    }
   ],
   "source": [
    "a.partition('you')"
   ]
  },
  {
   "cell_type": "code",
   "execution_count": 49,
   "id": "881e1eac",
   "metadata": {},
   "outputs": [
    {
     "data": {
      "text/plain": [
       "('How are you?', '', '')"
      ]
     },
     "execution_count": 49,
     "metadata": {},
     "output_type": "execute_result"
    }
   ],
   "source": [
    "a.partition('x')"
   ]
  },
  {
   "cell_type": "markdown",
   "id": "6a4c039f",
   "metadata": {},
   "source": [
    "## rpartition():"
   ]
  },
  {
   "cell_type": "markdown",
   "id": "5c5a358a",
   "metadata": {},
   "source": [
    "* this function searches for the last occurrence of a specified string, and splits the string into a tuple containing three elements."
   ]
  },
  {
   "cell_type": "code",
   "execution_count": 50,
   "id": "846e426a",
   "metadata": {},
   "outputs": [
    {
     "data": {
      "text/plain": [
       "'How are you?'"
      ]
     },
     "execution_count": 50,
     "metadata": {},
     "output_type": "execute_result"
    }
   ],
   "source": [
    "b=\"How are you?\"\n",
    "b"
   ]
  },
  {
   "cell_type": "code",
   "execution_count": 51,
   "id": "50dd226f",
   "metadata": {},
   "outputs": [
    {
     "data": {
      "text/plain": [
       "('How ', 'are', ' you?')"
      ]
     },
     "execution_count": 51,
     "metadata": {},
     "output_type": "execute_result"
    }
   ],
   "source": [
    "b.rpartition(\"are\")"
   ]
  },
  {
   "cell_type": "code",
   "execution_count": 52,
   "id": "d6315422",
   "metadata": {},
   "outputs": [
    {
     "data": {
      "text/plain": [
       "('', '', 'How are you?')"
      ]
     },
     "execution_count": 52,
     "metadata": {},
     "output_type": "execute_result"
    }
   ],
   "source": [
    "b.rpartition('p')"
   ]
  },
  {
   "cell_type": "markdown",
   "id": "f5814e94",
   "metadata": {},
   "source": [
    "## splitlines():"
   ]
  },
  {
   "cell_type": "markdown",
   "id": "22cf4c90",
   "metadata": {},
   "source": [
    "* The splitlines() method splits the string at line breaks and returns a list.."
   ]
  },
  {
   "cell_type": "code",
   "execution_count": 53,
   "id": "0d5e929c",
   "metadata": {},
   "outputs": [],
   "source": [
    "d=\"The serene beach at sunset painted a breathtaking scene with its golden hues reflecting on the calm, azure waters. The gentle, rhythmic sound of waves provided a soothing melody to the evening. As the sun dipped below the horizon, it marked the end of another perfect day by the sea\""
   ]
  },
  {
   "cell_type": "code",
   "execution_count": 54,
   "id": "0334d4ac",
   "metadata": {},
   "outputs": [
    {
     "data": {
      "text/plain": [
       "'The serene beach at sunset painted a breathtaking scene with its golden hues reflecting on the calm, azure waters. The gentle, rhythmic sound of waves provided a soothing melody to the evening. As the sun dipped below the horizon, it marked the end of another perfect day by the sea'"
      ]
     },
     "execution_count": 54,
     "metadata": {},
     "output_type": "execute_result"
    }
   ],
   "source": [
    "d"
   ]
  },
  {
   "cell_type": "code",
   "execution_count": 55,
   "id": "7add890d",
   "metadata": {},
   "outputs": [
    {
     "data": {
      "text/plain": [
       "['The serene beach at sunset painted a breathtaking scene with its golden hues reflecting on the calm, azure waters. The gentle, rhythmic sound of waves provided a soothing melody to the evening. As the sun dipped below the horizon, it marked the end of another perfect day by the sea']"
      ]
     },
     "execution_count": 55,
     "metadata": {},
     "output_type": "execute_result"
    }
   ],
   "source": [
    "d.splitlines()"
   ]
  },
  {
   "cell_type": "markdown",
   "id": "49c5f8b2",
   "metadata": {},
   "source": [
    "## center()"
   ]
  },
  {
   "cell_type": "markdown",
   "id": "6d32da10",
   "metadata": {},
   "source": [
    "* The center() method will center align the string, using a specified character (space is default) as the fill character.\n",
    "\n"
   ]
  },
  {
   "cell_type": "code",
   "execution_count": 56,
   "id": "6c94f09d",
   "metadata": {},
   "outputs": [
    {
     "data": {
      "text/plain": [
       "'malayalam'"
      ]
     },
     "execution_count": 56,
     "metadata": {},
     "output_type": "execute_result"
    }
   ],
   "source": [
    "n=\"malayalam\"\n",
    "n"
   ]
  },
  {
   "cell_type": "code",
   "execution_count": 57,
   "id": "05097b63",
   "metadata": {},
   "outputs": [
    {
     "data": {
      "text/plain": [
       "'   malayalam   '"
      ]
     },
     "execution_count": 57,
     "metadata": {},
     "output_type": "execute_result"
    }
   ],
   "source": [
    "n.center(15) # 15 width"
   ]
  },
  {
   "cell_type": "code",
   "execution_count": 58,
   "id": "cc3dbae6",
   "metadata": {},
   "outputs": [
    {
     "data": {
      "text/plain": [
       "'***malayalam***'"
      ]
     },
     "execution_count": 58,
     "metadata": {},
     "output_type": "execute_result"
    }
   ],
   "source": [
    "n.center(15,'*')"
   ]
  },
  {
   "cell_type": "code",
   "execution_count": 59,
   "id": "4e4fb7c8",
   "metadata": {},
   "outputs": [
    {
     "ename": "TypeError",
     "evalue": "The fill character must be exactly one character long",
     "output_type": "error",
     "traceback": [
      "\u001b[1;31m---------------------------------------------------------------------------\u001b[0m",
      "\u001b[1;31mTypeError\u001b[0m                                 Traceback (most recent call last)",
      "\u001b[1;32m~\\AppData\\Local\\Temp\\ipykernel_7980\\182524589.py\u001b[0m in \u001b[0;36m<module>\u001b[1;34m\u001b[0m\n\u001b[1;32m----> 1\u001b[1;33m \u001b[0mn\u001b[0m\u001b[1;33m.\u001b[0m\u001b[0mcenter\u001b[0m\u001b[1;33m(\u001b[0m\u001b[1;36m15\u001b[0m\u001b[1;33m,\u001b[0m\u001b[1;34m'%&'\u001b[0m\u001b[1;33m)\u001b[0m \u001b[1;31m#-------> type error\u001b[0m\u001b[1;33m\u001b[0m\u001b[1;33m\u001b[0m\u001b[0m\n\u001b[0m",
      "\u001b[1;31mTypeError\u001b[0m: The fill character must be exactly one character long"
     ]
    }
   ],
   "source": [
    "n.center(15,'%&') #-------> type error"
   ]
  },
  {
   "cell_type": "code",
   "execution_count": 60,
   "id": "34729112",
   "metadata": {},
   "outputs": [
    {
     "data": {
      "text/plain": [
       "'malayalam'"
      ]
     },
     "execution_count": 60,
     "metadata": {},
     "output_type": "execute_result"
    }
   ],
   "source": [
    "n.center(5)"
   ]
  },
  {
   "cell_type": "code",
   "execution_count": 61,
   "id": "f97d308e",
   "metadata": {},
   "outputs": [
    {
     "data": {
      "text/plain": [
       "9"
      ]
     },
     "execution_count": 61,
     "metadata": {},
     "output_type": "execute_result"
    }
   ],
   "source": [
    "len(n)"
   ]
  },
  {
   "cell_type": "markdown",
   "id": "94945118",
   "metadata": {},
   "source": [
    "## ljust():"
   ]
  },
  {
   "cell_type": "markdown",
   "id": "7585ccdc",
   "metadata": {},
   "source": [
    "* The ljust() method will left align the string, using a specified character (space is default) as the fill character."
   ]
  },
  {
   "cell_type": "code",
   "execution_count": 62,
   "id": "7e61e0e3",
   "metadata": {},
   "outputs": [
    {
     "data": {
      "text/plain": [
       "'malayalam      '"
      ]
     },
     "execution_count": 62,
     "metadata": {},
     "output_type": "execute_result"
    }
   ],
   "source": [
    "n.ljust(15)"
   ]
  },
  {
   "cell_type": "code",
   "execution_count": 63,
   "id": "b65935be",
   "metadata": {},
   "outputs": [
    {
     "data": {
      "text/plain": [
       "'malayalam***********'"
      ]
     },
     "execution_count": 63,
     "metadata": {},
     "output_type": "execute_result"
    }
   ],
   "source": [
    "n.ljust(20,'*')"
   ]
  },
  {
   "cell_type": "markdown",
   "id": "6909fb6e",
   "metadata": {},
   "source": [
    "## rjust()"
   ]
  },
  {
   "cell_type": "markdown",
   "id": "f8644007",
   "metadata": {},
   "source": [
    "* The rjust() method will right align the string, using a specified character (space is default) as the fill character."
   ]
  },
  {
   "cell_type": "code",
   "execution_count": 64,
   "id": "17a53cae",
   "metadata": {},
   "outputs": [
    {
     "data": {
      "text/plain": [
       "'           malayalam'"
      ]
     },
     "execution_count": 64,
     "metadata": {},
     "output_type": "execute_result"
    }
   ],
   "source": [
    "n.rjust(20)"
   ]
  },
  {
   "cell_type": "code",
   "execution_count": 65,
   "id": "7201f32c",
   "metadata": {},
   "outputs": [
    {
     "data": {
      "text/plain": [
       "'***********malayalam'"
      ]
     },
     "execution_count": 65,
     "metadata": {},
     "output_type": "execute_result"
    }
   ],
   "source": [
    "n.rjust(20,'*')"
   ]
  },
  {
   "cell_type": "markdown",
   "id": "25f493d9",
   "metadata": {},
   "source": [
    "## zfill()"
   ]
  },
  {
   "cell_type": "markdown",
   "id": "6c679ece",
   "metadata": {},
   "source": [
    "* The zfill() method adds zeros (0) at the beginning of the string, until it reaches the specified length.\n",
    "\n",
    "* If the value of the len parameter is less than the length of the string, no filling is done."
   ]
  },
  {
   "cell_type": "code",
   "execution_count": 66,
   "id": "5fc3edda",
   "metadata": {},
   "outputs": [
    {
     "data": {
      "text/plain": [
       "'00000000000malayalam'"
      ]
     },
     "execution_count": 66,
     "metadata": {},
     "output_type": "execute_result"
    }
   ],
   "source": [
    "n.zfill(20)"
   ]
  },
  {
   "cell_type": "markdown",
   "id": "d6806412",
   "metadata": {},
   "source": [
    "# strip()"
   ]
  },
  {
   "cell_type": "code",
   "execution_count": 67,
   "id": "e9bac17c",
   "metadata": {},
   "outputs": [
    {
     "data": {
      "text/plain": [
       "'!@#malayalam#@!'"
      ]
     },
     "execution_count": 67,
     "metadata": {},
     "output_type": "execute_result"
    }
   ],
   "source": [
    "a='!@#'+n+'#@!'\n",
    "a"
   ]
  },
  {
   "cell_type": "code",
   "execution_count": 68,
   "id": "e47ea92a",
   "metadata": {},
   "outputs": [
    {
     "data": {
      "text/plain": [
       "('     malayalam      ', '*****malayalam******')"
      ]
     },
     "execution_count": 68,
     "metadata": {},
     "output_type": "execute_result"
    }
   ],
   "source": [
    "mc,ms=n.center(20),n.center(20,'*')\n",
    "mc,ms"
   ]
  },
  {
   "cell_type": "code",
   "execution_count": 70,
   "id": "12047c55",
   "metadata": {},
   "outputs": [
    {
     "data": {
      "text/plain": [
       "'malayalam'"
      ]
     },
     "execution_count": 70,
     "metadata": {},
     "output_type": "execute_result"
    }
   ],
   "source": [
    "mc.strip()"
   ]
  },
  {
   "cell_type": "code",
   "execution_count": 71,
   "id": "cb7bb0da",
   "metadata": {},
   "outputs": [
    {
     "data": {
      "text/plain": [
       "'malayalam'"
      ]
     },
     "execution_count": 71,
     "metadata": {},
     "output_type": "execute_result"
    }
   ],
   "source": [
    "ms.strip('*')"
   ]
  },
  {
   "cell_type": "code",
   "execution_count": 72,
   "id": "236db8d3",
   "metadata": {},
   "outputs": [
    {
     "data": {
      "text/plain": [
       "'malayalam'"
      ]
     },
     "execution_count": 72,
     "metadata": {},
     "output_type": "execute_result"
    }
   ],
   "source": [
    "a.strip('!#@')"
   ]
  },
  {
   "cell_type": "code",
   "execution_count": 73,
   "id": "fe1c44e2",
   "metadata": {},
   "outputs": [
    {
     "data": {
      "text/plain": [
       "'!@#malayalam#^'"
      ]
     },
     "execution_count": 73,
     "metadata": {},
     "output_type": "execute_result"
    }
   ],
   "source": [
    "aa=a[0:-2]+'^'+a[-2:0]\n",
    "aa"
   ]
  },
  {
   "cell_type": "code",
   "execution_count": 74,
   "id": "201e0bfd",
   "metadata": {},
   "outputs": [
    {
     "data": {
      "text/plain": [
       "'malayalam#^'"
      ]
     },
     "execution_count": 74,
     "metadata": {},
     "output_type": "execute_result"
    }
   ],
   "source": [
    "aa.strip('!@#')"
   ]
  },
  {
   "cell_type": "code",
   "execution_count": 75,
   "id": "dc5340ad",
   "metadata": {},
   "outputs": [
    {
     "data": {
      "text/plain": [
       "' !@#malayalam#^@! '"
      ]
     },
     "execution_count": 75,
     "metadata": {},
     "output_type": "execute_result"
    }
   ],
   "source": [
    "aa=' '+a[0:-2]+'^'+a[-2:]+' '\n",
    "aa"
   ]
  },
  {
   "cell_type": "markdown",
   "id": "f853777e",
   "metadata": {},
   "source": [
    "## lstrip()"
   ]
  },
  {
   "cell_type": "markdown",
   "id": "1063afd0",
   "metadata": {},
   "source": [
    "* The lstrip() method removes any leading characters (space is the default leading character to remove)"
   ]
  },
  {
   "cell_type": "code",
   "execution_count": 76,
   "id": "e62c85dc",
   "metadata": {},
   "outputs": [
    {
     "data": {
      "text/plain": [
       "'!@#malayalam#@!'"
      ]
     },
     "execution_count": 76,
     "metadata": {},
     "output_type": "execute_result"
    }
   ],
   "source": [
    "a"
   ]
  },
  {
   "cell_type": "code",
   "execution_count": 77,
   "id": "04e06de1",
   "metadata": {},
   "outputs": [
    {
     "data": {
      "text/plain": [
       "'#malayalam#@!'"
      ]
     },
     "execution_count": 77,
     "metadata": {},
     "output_type": "execute_result"
    }
   ],
   "source": [
    "a.lstrip(\"@!\")"
   ]
  },
  {
   "cell_type": "code",
   "execution_count": 82,
   "id": "6c2f62b8",
   "metadata": {},
   "outputs": [],
   "source": [
    "m=\"            pavan               \""
   ]
  },
  {
   "cell_type": "code",
   "execution_count": 83,
   "id": "921df3ef",
   "metadata": {},
   "outputs": [
    {
     "data": {
      "text/plain": [
       "'            pavan               '"
      ]
     },
     "execution_count": 83,
     "metadata": {},
     "output_type": "execute_result"
    }
   ],
   "source": [
    "m\n",
    "\n"
   ]
  },
  {
   "cell_type": "code",
   "execution_count": 84,
   "id": "020d3bff",
   "metadata": {},
   "outputs": [
    {
     "data": {
      "text/plain": [
       "'pavan               '"
      ]
     },
     "execution_count": 84,
     "metadata": {},
     "output_type": "execute_result"
    }
   ],
   "source": [
    "m.lstrip()"
   ]
  },
  {
   "cell_type": "code",
   "execution_count": 86,
   "id": "e4077be5",
   "metadata": {},
   "outputs": [
    {
     "data": {
      "text/plain": [
       "'!@#$pavan#@!$'"
      ]
     },
     "execution_count": 86,
     "metadata": {},
     "output_type": "execute_result"
    }
   ],
   "source": [
    "m='!@#$pavan#@!$'\n",
    "m"
   ]
  },
  {
   "cell_type": "code",
   "execution_count": 87,
   "id": "c088e660",
   "metadata": {},
   "outputs": [
    {
     "data": {
      "text/plain": [
       "'@#$pavan#@!$'"
      ]
     },
     "execution_count": 87,
     "metadata": {},
     "output_type": "execute_result"
    }
   ],
   "source": [
    "m.lstrip(\"!\")"
   ]
  },
  {
   "cell_type": "markdown",
   "id": "cd48c71c",
   "metadata": {},
   "source": [
    "## rstrip()"
   ]
  },
  {
   "cell_type": "markdown",
   "id": "90e7a5a5",
   "metadata": {},
   "source": [
    "* The rstrip() method removes any trailing characters (characters at the end a string), space is the default trailing character to remove."
   ]
  },
  {
   "cell_type": "code",
   "execution_count": 88,
   "id": "af99214a",
   "metadata": {},
   "outputs": [
    {
     "data": {
      "text/plain": [
       "' !@#$pavan#@!$ '"
      ]
     },
     "execution_count": 88,
     "metadata": {},
     "output_type": "execute_result"
    }
   ],
   "source": [
    "m=' !@#$pavan#@!$ '\n",
    "m"
   ]
  },
  {
   "cell_type": "code",
   "execution_count": 89,
   "id": "d1f9c546",
   "metadata": {},
   "outputs": [
    {
     "data": {
      "text/plain": [
       "' !@#$pavan#@!$'"
      ]
     },
     "execution_count": 89,
     "metadata": {},
     "output_type": "execute_result"
    }
   ],
   "source": [
    "m.rstrip()"
   ]
  },
  {
   "cell_type": "code",
   "execution_count": 90,
   "id": "dea48330",
   "metadata": {},
   "outputs": [
    {
     "data": {
      "text/plain": [
       "' !@#$pavan#@!$ '"
      ]
     },
     "execution_count": 90,
     "metadata": {},
     "output_type": "execute_result"
    }
   ],
   "source": [
    "m.rstrip('$') # nothing is changed\n"
   ]
  },
  {
   "cell_type": "code",
   "execution_count": 91,
   "id": "e92dd80f",
   "metadata": {},
   "outputs": [
    {
     "data": {
      "text/plain": [
       "' !@#$pavan#@!'"
      ]
     },
     "execution_count": 91,
     "metadata": {},
     "output_type": "execute_result"
    }
   ],
   "source": [
    "m.rstrip(' $')"
   ]
  },
  {
   "cell_type": "markdown",
   "id": "47e221a0",
   "metadata": {},
   "source": [
    "## join()"
   ]
  },
  {
   "cell_type": "markdown",
   "id": "627495fe",
   "metadata": {},
   "source": [
    "* This Function is used for combining or joining list of values from any iterable object"
   ]
  },
  {
   "cell_type": "code",
   "execution_count": 94,
   "id": "cea57eea",
   "metadata": {},
   "outputs": [
    {
     "data": {
      "text/plain": [
       "['*', 'a', 'E']"
      ]
     },
     "execution_count": 94,
     "metadata": {},
     "output_type": "execute_result"
    }
   ],
   "source": [
    "['*','a','E']"
   ]
  },
  {
   "cell_type": "code",
   "execution_count": 95,
   "id": "158c6763",
   "metadata": {},
   "outputs": [
    {
     "data": {
      "text/plain": [
       "'*#a#E'"
      ]
     },
     "execution_count": 95,
     "metadata": {},
     "output_type": "execute_result"
    }
   ],
   "source": [
    "'#'.join(['*','a','E'])"
   ]
  },
  {
   "cell_type": "code",
   "execution_count": 96,
   "id": "566b5e2f",
   "metadata": {},
   "outputs": [],
   "source": [
    "x=['*','a','E']"
   ]
  },
  {
   "cell_type": "code",
   "execution_count": 97,
   "id": "fddf8b20",
   "metadata": {},
   "outputs": [
    {
     "data": {
      "text/plain": [
       "'*!a!E'"
      ]
     },
     "execution_count": 97,
     "metadata": {},
     "output_type": "execute_result"
    }
   ],
   "source": [
    "'!'.join(x)"
   ]
  },
  {
   "cell_type": "code",
   "execution_count": 98,
   "id": "d3c0bc54",
   "metadata": {},
   "outputs": [
    {
     "data": {
      "text/plain": [
       "'p*a*v*a*n*r*e*d*d*y'"
      ]
     },
     "execution_count": 98,
     "metadata": {},
     "output_type": "execute_result"
    }
   ],
   "source": [
    "'*'.join('pavanreddy')"
   ]
  },
  {
   "cell_type": "code",
   "execution_count": 99,
   "id": "f848fe62",
   "metadata": {},
   "outputs": [
    {
     "data": {
      "text/plain": [
       "'N!!o!!t!!e!!b!!o!!o!!k'"
      ]
     },
     "execution_count": 99,
     "metadata": {},
     "output_type": "execute_result"
    }
   ],
   "source": [
    "q=\"Notebook\"\n",
    "\"!!\".join(q)"
   ]
  },
  {
   "cell_type": "markdown",
   "id": "e8308ed5",
   "metadata": {},
   "source": [
    "## lower()"
   ]
  },
  {
   "cell_type": "markdown",
   "id": "53dbd80f",
   "metadata": {},
   "source": [
    "* It is used for converting any type of string data in to lower"
   ]
  },
  {
   "cell_type": "code",
   "execution_count": 102,
   "id": "5975d9d3",
   "metadata": {},
   "outputs": [
    {
     "data": {
      "text/plain": [
       "'DATA SCIENCE'"
      ]
     },
     "execution_count": 102,
     "metadata": {},
     "output_type": "execute_result"
    }
   ],
   "source": [
    "s=\"DATA SCIENCE\"\n",
    "s"
   ]
  },
  {
   "cell_type": "code",
   "execution_count": 103,
   "id": "81d0bad0",
   "metadata": {},
   "outputs": [
    {
     "data": {
      "text/plain": [
       "'data science'"
      ]
     },
     "execution_count": 103,
     "metadata": {},
     "output_type": "execute_result"
    }
   ],
   "source": [
    "s.lower()"
   ]
  },
  {
   "cell_type": "markdown",
   "id": "41ab321d",
   "metadata": {},
   "source": [
    "### Upper()"
   ]
  },
  {
   "cell_type": "markdown",
   "id": "5ca831b3",
   "metadata": {},
   "source": [
    "* It is used for converting any type of str data in to upper case"
   ]
  },
  {
   "cell_type": "code",
   "execution_count": 104,
   "id": "8a08a32d",
   "metadata": {},
   "outputs": [
    {
     "data": {
      "text/plain": [
       "'python'"
      ]
     },
     "execution_count": 104,
     "metadata": {},
     "output_type": "execute_result"
    }
   ],
   "source": [
    "s=\"python\"\n",
    "s"
   ]
  },
  {
   "cell_type": "code",
   "execution_count": 105,
   "id": "7c387528",
   "metadata": {},
   "outputs": [
    {
     "data": {
      "text/plain": [
       "'PYTHON'"
      ]
     },
     "execution_count": 105,
     "metadata": {},
     "output_type": "execute_result"
    }
   ],
   "source": [
    "s.upper()"
   ]
  },
  {
   "cell_type": "code",
   "execution_count": 107,
   "id": "3f2882a7",
   "metadata": {},
   "outputs": [
    {
     "data": {
      "text/plain": [
       "'abyugtjbi'"
      ]
     },
     "execution_count": 107,
     "metadata": {},
     "output_type": "execute_result"
    }
   ],
   "source": [
    "s=\"abyugtjbi\"\n",
    "s"
   ]
  },
  {
   "cell_type": "code",
   "execution_count": 108,
   "id": "2f718b02",
   "metadata": {},
   "outputs": [
    {
     "data": {
      "text/plain": [
       "'ABYUGTJBI'"
      ]
     },
     "execution_count": 108,
     "metadata": {},
     "output_type": "execute_result"
    }
   ],
   "source": [
    "s.upper()"
   ]
  },
  {
   "cell_type": "markdown",
   "id": "93ab6382",
   "metadata": {},
   "source": [
    "## isupper()"
   ]
  },
  {
   "cell_type": "markdown",
   "id": "f8231206",
   "metadata": {},
   "source": [
    "* This Function return True provide he given str object data is purly upper case otherwise it return it false"
   ]
  },
  {
   "cell_type": "code",
   "execution_count": 109,
   "id": "735864d0",
   "metadata": {},
   "outputs": [
    {
     "data": {
      "text/plain": [
       "True"
      ]
     },
     "execution_count": 109,
     "metadata": {},
     "output_type": "execute_result"
    }
   ],
   "source": [
    "s=\"PYTHON\"\n",
    "s.isupper()"
   ]
  },
  {
   "cell_type": "code",
   "execution_count": 110,
   "id": "739b0621",
   "metadata": {},
   "outputs": [
    {
     "data": {
      "text/plain": [
       "False"
      ]
     },
     "execution_count": 110,
     "metadata": {},
     "output_type": "execute_result"
    }
   ],
   "source": [
    "s=\"pavan\"\n",
    "s.isupper()"
   ]
  },
  {
   "cell_type": "markdown",
   "id": "e654ac52",
   "metadata": {},
   "source": [
    "### islower()"
   ]
  },
  {
   "cell_type": "markdown",
   "id": "b2f02e74",
   "metadata": {},
   "source": [
    "* This function returns True provided the given str object data is purly lower case otherwise it return False "
   ]
  },
  {
   "cell_type": "code",
   "execution_count": 111,
   "id": "713a0678",
   "metadata": {},
   "outputs": [
    {
     "data": {
      "text/plain": [
       "'python'"
      ]
     },
     "execution_count": 111,
     "metadata": {},
     "output_type": "execute_result"
    }
   ],
   "source": [
    "s=\"python\"\n",
    "s"
   ]
  },
  {
   "cell_type": "code",
   "execution_count": 112,
   "id": "1afb4775",
   "metadata": {},
   "outputs": [
    {
     "data": {
      "text/plain": [
       "True"
      ]
     },
     "execution_count": 112,
     "metadata": {},
     "output_type": "execute_result"
    }
   ],
   "source": [
    "s.islower()"
   ]
  },
  {
   "cell_type": "code",
   "execution_count": 113,
   "id": "ad2e4775",
   "metadata": {},
   "outputs": [
    {
     "data": {
      "text/plain": [
       "False"
      ]
     },
     "execution_count": 113,
     "metadata": {},
     "output_type": "execute_result"
    }
   ],
   "source": [
    "s=\"PYTHON\"\n",
    "s.islower()"
   ]
  },
  {
   "cell_type": "markdown",
   "id": "9dae9207",
   "metadata": {},
   "source": [
    "### isalpha()"
   ]
  },
  {
   "cell_type": "markdown",
   "id": "e032b8a2",
   "metadata": {},
   "source": [
    "* This function return True provide str object contains purely Alphabets otherwise return false"
   ]
  },
  {
   "cell_type": "code",
   "execution_count": 115,
   "id": "b746f48e",
   "metadata": {},
   "outputs": [
    {
     "data": {
      "text/plain": [
       "True"
      ]
     },
     "execution_count": 115,
     "metadata": {},
     "output_type": "execute_result"
    }
   ],
   "source": [
    "s=\"pavankumar\"\n",
    "s.isalpha()"
   ]
  },
  {
   "cell_type": "code",
   "execution_count": 116,
   "id": "4291fbaf",
   "metadata": {},
   "outputs": [
    {
     "data": {
      "text/plain": [
       "False"
      ]
     },
     "execution_count": 116,
     "metadata": {},
     "output_type": "execute_result"
    }
   ],
   "source": [
    "s=\"123\"\n",
    "s.isalpha()"
   ]
  },
  {
   "cell_type": "markdown",
   "id": "c0f90057",
   "metadata": {},
   "source": [
    "## isdigit()"
   ]
  },
  {
   "cell_type": "markdown",
   "id": "f5feea89",
   "metadata": {},
   "source": [
    "* This functon return True provide given str object contains purely digit otherwise return false"
   ]
  },
  {
   "cell_type": "code",
   "execution_count": 117,
   "id": "6ef9cbe4",
   "metadata": {},
   "outputs": [
    {
     "data": {
      "text/plain": [
       "False"
      ]
     },
     "execution_count": 117,
     "metadata": {},
     "output_type": "execute_result"
    }
   ],
   "source": [
    "s=\"python\"\n",
    "s.isdigit()"
   ]
  },
  {
   "cell_type": "code",
   "execution_count": 118,
   "id": "4bf06057",
   "metadata": {},
   "outputs": [
    {
     "data": {
      "text/plain": [
       "True"
      ]
     },
     "execution_count": 118,
     "metadata": {},
     "output_type": "execute_result"
    }
   ],
   "source": [
    "s=\"15395\"\n",
    "s.isdigit()"
   ]
  },
  {
   "cell_type": "markdown",
   "id": "3b470ad5",
   "metadata": {},
   "source": [
    "### isalnum()"
   ]
  },
  {
   "cell_type": "markdown",
   "id": "bd6a63ba",
   "metadata": {},
   "source": [
    "* This function return True provided str object contain with alpha or numeric or alpha numeric only otherwise it return false "
   ]
  },
  {
   "cell_type": "code",
   "execution_count": 119,
   "id": "3356f1f8",
   "metadata": {},
   "outputs": [
    {
     "data": {
      "text/plain": [
       "True"
      ]
     },
     "execution_count": 119,
     "metadata": {},
     "output_type": "execute_result"
    }
   ],
   "source": [
    "s=\"pavan123\"\n",
    "s.isalnum()"
   ]
  },
  {
   "cell_type": "code",
   "execution_count": 120,
   "id": "92c352ec",
   "metadata": {},
   "outputs": [
    {
     "data": {
      "text/plain": [
       "True"
      ]
     },
     "execution_count": 120,
     "metadata": {},
     "output_type": "execute_result"
    }
   ],
   "source": [
    "s=\"1256\"\n",
    "s.isalnum()"
   ]
  },
  {
   "cell_type": "code",
   "execution_count": 121,
   "id": "5ed6a2a9",
   "metadata": {},
   "outputs": [
    {
     "data": {
      "text/plain": [
       "False"
      ]
     },
     "execution_count": 121,
     "metadata": {},
     "output_type": "execute_result"
    }
   ],
   "source": [
    "s=\"@154pab\"\n",
    "s.isalnum()"
   ]
  },
  {
   "cell_type": "markdown",
   "id": "5b8fc423",
   "metadata": {},
   "source": [
    "## isspace()"
   ]
  },
  {
   "cell_type": "markdown",
   "id": "46d1b05a",
   "metadata": {},
   "source": [
    "* This function return true provided str objeect contains purely space otherwise it return false"
   ]
  },
  {
   "cell_type": "code",
   "execution_count": 122,
   "id": "d5b08173",
   "metadata": {},
   "outputs": [
    {
     "data": {
      "text/plain": [
       "True"
      ]
     },
     "execution_count": 122,
     "metadata": {},
     "output_type": "execute_result"
    }
   ],
   "source": [
    "s=\" \"\n",
    "s.isspace()"
   ]
  },
  {
   "cell_type": "code",
   "execution_count": 123,
   "id": "2df0440a",
   "metadata": {},
   "outputs": [
    {
     "data": {
      "text/plain": [
       "False"
      ]
     },
     "execution_count": 123,
     "metadata": {},
     "output_type": "execute_result"
    }
   ],
   "source": [
    "s=\"pavan kumar\"\n",
    "s.isspace()"
   ]
  },
  {
   "cell_type": "markdown",
   "id": "c3a7b7fb",
   "metadata": {},
   "source": [
    "## startswith()"
   ]
  },
  {
   "cell_type": "markdown",
   "id": "98b8c741",
   "metadata": {},
   "source": [
    "* This function return true if the string start with specified value otherwise false"
   ]
  },
  {
   "cell_type": "code",
   "execution_count": 124,
   "id": "205248ce",
   "metadata": {},
   "outputs": [
    {
     "data": {
      "text/plain": [
       "'HYD is captial of ts'"
      ]
     },
     "execution_count": 124,
     "metadata": {},
     "output_type": "execute_result"
    }
   ],
   "source": [
    "s=\"HYD is captial of ts\"\n",
    "s"
   ]
  },
  {
   "cell_type": "code",
   "execution_count": 127,
   "id": "727836b5",
   "metadata": {},
   "outputs": [
    {
     "data": {
      "text/plain": [
       "True"
      ]
     },
     "execution_count": 127,
     "metadata": {},
     "output_type": "execute_result"
    }
   ],
   "source": [
    "s.startswith(\"HYD\")"
   ]
  },
  {
   "cell_type": "code",
   "execution_count": 128,
   "id": "7f9af4f3",
   "metadata": {},
   "outputs": [
    {
     "data": {
      "text/plain": [
       "False"
      ]
     },
     "execution_count": 128,
     "metadata": {},
     "output_type": "execute_result"
    }
   ],
   "source": [
    "s.startswith(\"ts\")"
   ]
  },
  {
   "cell_type": "markdown",
   "id": "6071fe3a",
   "metadata": {},
   "source": [
    "## endswith()"
   ]
  },
  {
   "cell_type": "markdown",
   "id": "ddc87a6a",
   "metadata": {},
   "source": [
    "* This function return True if the string ends with the specified value otherwise false"
   ]
  },
  {
   "cell_type": "code",
   "execution_count": 129,
   "id": "d97b32ee",
   "metadata": {},
   "outputs": [
    {
     "data": {
      "text/plain": [
       "'python is an oop lang'"
      ]
     },
     "execution_count": 129,
     "metadata": {},
     "output_type": "execute_result"
    }
   ],
   "source": [
    "s=\"python is an oop lang\"\n",
    "s"
   ]
  },
  {
   "cell_type": "code",
   "execution_count": 131,
   "id": "2625bb03",
   "metadata": {},
   "outputs": [
    {
     "data": {
      "text/plain": [
       "False"
      ]
     },
     "execution_count": 131,
     "metadata": {},
     "output_type": "execute_result"
    }
   ],
   "source": [
    "s.endswith(\"python\")"
   ]
  },
  {
   "cell_type": "code",
   "execution_count": 132,
   "id": "dafddfd0",
   "metadata": {},
   "outputs": [
    {
     "data": {
      "text/plain": [
       "True"
      ]
     },
     "execution_count": 132,
     "metadata": {},
     "output_type": "execute_result"
    }
   ],
   "source": [
    "s.endswith(\"lang\")"
   ]
  },
  {
   "cell_type": "markdown",
   "id": "a678b39c",
   "metadata": {},
   "source": [
    "## isnumeric()"
   ]
  },
  {
   "cell_type": "markdown",
   "id": "d6d1e4c7",
   "metadata": {},
   "source": [
    "* The isnumeric() method returns True if all the characters are numeric (0-9), otherwise False.\n",
    "\n",
    "* Exponents, like ² and ¾ are also considered to be numeric values.\n",
    "\n",
    "* \"-1\" and \"1.5\" are NOT considered numeric values, because all the characters in the string must be numeric, and the - and the . are not."
   ]
  },
  {
   "cell_type": "code",
   "execution_count": 137,
   "id": "b6929190",
   "metadata": {},
   "outputs": [
    {
     "data": {
      "text/plain": [
       "True"
      ]
     },
     "execution_count": 137,
     "metadata": {},
     "output_type": "execute_result"
    }
   ],
   "source": [
    "s=\"551564\"\n",
    "s.isnumeric()"
   ]
  },
  {
   "cell_type": "code",
   "execution_count": 138,
   "id": "177b6f61",
   "metadata": {},
   "outputs": [
    {
     "data": {
      "text/plain": [
       "False"
      ]
     },
     "execution_count": 138,
     "metadata": {},
     "output_type": "execute_result"
    }
   ],
   "source": [
    "s=\"-54\"\n",
    "s.isnumeric()"
   ]
  },
  {
   "cell_type": "code",
   "execution_count": 139,
   "id": "8d57a1d0",
   "metadata": {},
   "outputs": [
    {
     "data": {
      "text/plain": [
       "False"
      ]
     },
     "execution_count": 139,
     "metadata": {},
     "output_type": "execute_result"
    }
   ],
   "source": [
    "s=\"5/2\"\n",
    "s.isnumeric()"
   ]
  },
  {
   "cell_type": "code",
   "execution_count": 140,
   "id": "b2fc91f8",
   "metadata": {},
   "outputs": [
    {
     "data": {
      "text/plain": [
       "False"
      ]
     },
     "execution_count": 140,
     "metadata": {},
     "output_type": "execute_result"
    }
   ],
   "source": [
    "s=\"1.5\"\n",
    "s.isnumeric()"
   ]
  },
  {
   "cell_type": "code",
   "execution_count": null,
   "id": "74f0e924",
   "metadata": {},
   "outputs": [],
   "source": []
  }
 ],
 "metadata": {
  "kernelspec": {
   "display_name": "Python 3 (ipykernel)",
   "language": "python",
   "name": "python3"
  },
  "language_info": {
   "codemirror_mode": {
    "name": "ipython",
    "version": 3
   },
   "file_extension": ".py",
   "mimetype": "text/x-python",
   "name": "python",
   "nbconvert_exporter": "python",
   "pygments_lexer": "ipython3",
   "version": "3.9.13"
  }
 },
 "nbformat": 4,
 "nbformat_minor": 5
}
